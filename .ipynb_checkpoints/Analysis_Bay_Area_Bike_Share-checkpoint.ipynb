{
 "cells": [
  {
   "cell_type": "markdown",
   "metadata": {},
   "source": [
    "# Bay Area Bike Share Analysis\n",
    "\n",
    "## Introduction\n",
    "\n",
    "This analysis was originally made as part of a nanodegree program in [Fundamentals on Data Science](), from Udacity\n",
    "\n",
    "[Bay Area Bike Share](http://www.bayareabikeshare.com/) is a company that rents bicycles on-demand for customers in San Francisco, Redwood City, Palo Alto, Mountain View and San Jose. The customers can unlock the bicycles at several stations in one city and give them back at the same city. The customers can buy a subscription that allows them to use the system for a year or they can just buy single tickets for 24 hours or 3 days. They can travel as much as they want. Trips below 30 minutes do not have any additional cost while longer trips need extra payment.\n"
   ]
  },
  {
   "cell_type": "markdown",
   "metadata": {},
   "source": [
    "## Data Wrangling\n",
    "\n",
    "The [open data](http://www.bayareabikeshare.com/open-data) comes in three parts: first half of year 1 (from `8/29/13` to `2/28/14`), the second half of year 1 (from `3/1/14` to `8/31/14`) and all year 2 (from `9/1/14` to `8/31/15`). There are two data files for each part: trip data showing information about each single trip(`*_trip_data.csv`) and information about the stations (`*_station_data.csv`).\n"
   ]
  },
  {
   "cell_type": "code",
   "execution_count": 1,
   "metadata": {},
   "outputs": [],
   "source": [
    "# Imports all the required libraries\n",
    "%matplotlib inline\n",
    "import csv\n",
    "from datetime import datetime\n",
    "import numpy as np\n",
    "import pandas as pd\n",
    "from babs_datacheck import question_3\n",
    "from babs_visualizations import usage_stats, usage_plot\n",
    "from IPython.display import display"
   ]
  },
  {
   "cell_type": "code",
   "execution_count": 2,
   "metadata": {},
   "outputs": [],
   "source": [
    "# Files definition\n",
    "file_in  = '201402_trip_data.csv'\n",
    "file_out = '201309_trip_data.csv'\n",
    "\n",
    "with open(file_out, 'w') as f_out, open(file_in, 'r') as f_in:\n",
    "    # configure csv reader\n",
    "    in_reader = csv.reader(f_in)\n",
    "    out_writer = csv.writer(f_out)\n",
    "\n",
    "    # write the data on the output file until the data limit is reached\n",
    "    while True:\n",
    "        datarow = next(in_reader)\n",
    "        # start date has the format 'm/d/yyyy HH:MM'\n",
    "        if datarow[2][:9] == '10/1/2013':\n",
    "            break\n",
    "        out_writer.writerow(datarow)"
   ]
  },
  {
   "cell_type": "markdown",
   "metadata": {},
   "source": [
    "### Merging Trip Data\n",
    "\n",
    "First I am going to check how data is structured in both files with the information about the half first year."
   ]
  },
  {
   "cell_type": "markdown",
   "metadata": {},
   "source": [
    "#### Trip Data"
   ]
  },
  {
   "cell_type": "code",
   "execution_count": 6,
   "metadata": {},
   "outputs": [
    {
     "data": {
      "text/html": [
       "<div>\n",
       "<style scoped>\n",
       "    .dataframe tbody tr th:only-of-type {\n",
       "        vertical-align: middle;\n",
       "    }\n",
       "\n",
       "    .dataframe tbody tr th {\n",
       "        vertical-align: top;\n",
       "    }\n",
       "\n",
       "    .dataframe thead th {\n",
       "        text-align: right;\n",
       "    }\n",
       "</style>\n",
       "<table border=\"1\" class=\"dataframe\">\n",
       "  <thead>\n",
       "    <tr style=\"text-align: right;\">\n",
       "      <th></th>\n",
       "      <th>Trip ID</th>\n",
       "      <th>Duration</th>\n",
       "      <th>Start Date</th>\n",
       "      <th>Start Station</th>\n",
       "      <th>Start Terminal</th>\n",
       "      <th>End Date</th>\n",
       "      <th>End Station</th>\n",
       "      <th>End Terminal</th>\n",
       "      <th>Bike #</th>\n",
       "      <th>Subscription Type</th>\n",
       "      <th>Zip Code</th>\n",
       "    </tr>\n",
       "  </thead>\n",
       "  <tbody>\n",
       "    <tr>\n",
       "      <th>0</th>\n",
       "      <td>4576</td>\n",
       "      <td>63</td>\n",
       "      <td>8/29/2013 14:13</td>\n",
       "      <td>South Van Ness at Market</td>\n",
       "      <td>66</td>\n",
       "      <td>8/29/2013 14:14</td>\n",
       "      <td>South Van Ness at Market</td>\n",
       "      <td>66</td>\n",
       "      <td>520</td>\n",
       "      <td>Subscriber</td>\n",
       "      <td>94127</td>\n",
       "    </tr>\n",
       "    <tr>\n",
       "      <th>1</th>\n",
       "      <td>4607</td>\n",
       "      <td>70</td>\n",
       "      <td>8/29/2013 14:42</td>\n",
       "      <td>San Jose City Hall</td>\n",
       "      <td>10</td>\n",
       "      <td>8/29/2013 14:43</td>\n",
       "      <td>San Jose City Hall</td>\n",
       "      <td>10</td>\n",
       "      <td>661</td>\n",
       "      <td>Subscriber</td>\n",
       "      <td>95138</td>\n",
       "    </tr>\n",
       "    <tr>\n",
       "      <th>2</th>\n",
       "      <td>4130</td>\n",
       "      <td>71</td>\n",
       "      <td>8/29/2013 10:16</td>\n",
       "      <td>Mountain View City Hall</td>\n",
       "      <td>27</td>\n",
       "      <td>8/29/2013 10:17</td>\n",
       "      <td>Mountain View City Hall</td>\n",
       "      <td>27</td>\n",
       "      <td>48</td>\n",
       "      <td>Subscriber</td>\n",
       "      <td>97214</td>\n",
       "    </tr>\n",
       "    <tr>\n",
       "      <th>3</th>\n",
       "      <td>4251</td>\n",
       "      <td>77</td>\n",
       "      <td>8/29/2013 11:29</td>\n",
       "      <td>San Jose City Hall</td>\n",
       "      <td>10</td>\n",
       "      <td>8/29/2013 11:30</td>\n",
       "      <td>San Jose City Hall</td>\n",
       "      <td>10</td>\n",
       "      <td>26</td>\n",
       "      <td>Subscriber</td>\n",
       "      <td>95060</td>\n",
       "    </tr>\n",
       "    <tr>\n",
       "      <th>4</th>\n",
       "      <td>4299</td>\n",
       "      <td>83</td>\n",
       "      <td>8/29/2013 12:02</td>\n",
       "      <td>South Van Ness at Market</td>\n",
       "      <td>66</td>\n",
       "      <td>8/29/2013 12:04</td>\n",
       "      <td>Market at 10th</td>\n",
       "      <td>67</td>\n",
       "      <td>319</td>\n",
       "      <td>Subscriber</td>\n",
       "      <td>94103</td>\n",
       "    </tr>\n",
       "  </tbody>\n",
       "</table>\n",
       "</div>"
      ],
      "text/plain": [
       "   Trip ID  Duration       Start Date             Start Station  \\\n",
       "0     4576        63  8/29/2013 14:13  South Van Ness at Market   \n",
       "1     4607        70  8/29/2013 14:42        San Jose City Hall   \n",
       "2     4130        71  8/29/2013 10:16   Mountain View City Hall   \n",
       "3     4251        77  8/29/2013 11:29        San Jose City Hall   \n",
       "4     4299        83  8/29/2013 12:02  South Van Ness at Market   \n",
       "\n",
       "   Start Terminal         End Date               End Station  End Terminal  \\\n",
       "0              66  8/29/2013 14:14  South Van Ness at Market            66   \n",
       "1              10  8/29/2013 14:43        San Jose City Hall            10   \n",
       "2              27  8/29/2013 10:17   Mountain View City Hall            27   \n",
       "3              10  8/29/2013 11:30        San Jose City Hall            10   \n",
       "4              66  8/29/2013 12:04            Market at 10th            67   \n",
       "\n",
       "   Bike # Subscription Type Zip Code  \n",
       "0     520        Subscriber    94127  \n",
       "1     661        Subscriber    95138  \n",
       "2      48        Subscriber    97214  \n",
       "3      26        Subscriber    95060  \n",
       "4     319        Subscriber    94103  "
      ]
     },
     "execution_count": 6,
     "metadata": {},
     "output_type": "execute_result"
    }
   ],
   "source": [
    "# Read the file and print the header and first records of the file\n",
    "trip_data = pd.read_csv('201402_trip_data.csv')\n",
    "trip_data.head()"
   ]
  },
  {
   "cell_type": "markdown",
   "metadata": {},
   "source": [
    "#### Station Data"
   ]
  },
  {
   "cell_type": "code",
   "execution_count": 8,
   "metadata": {},
   "outputs": [
    {
     "data": {
      "text/html": [
       "<div>\n",
       "<style scoped>\n",
       "    .dataframe tbody tr th:only-of-type {\n",
       "        vertical-align: middle;\n",
       "    }\n",
       "\n",
       "    .dataframe tbody tr th {\n",
       "        vertical-align: top;\n",
       "    }\n",
       "\n",
       "    .dataframe thead th {\n",
       "        text-align: right;\n",
       "    }\n",
       "</style>\n",
       "<table border=\"1\" class=\"dataframe\">\n",
       "  <thead>\n",
       "    <tr style=\"text-align: right;\">\n",
       "      <th></th>\n",
       "      <th>station_id</th>\n",
       "      <th>name</th>\n",
       "      <th>lat</th>\n",
       "      <th>long</th>\n",
       "      <th>dockcount</th>\n",
       "      <th>landmark</th>\n",
       "      <th>installation</th>\n",
       "    </tr>\n",
       "  </thead>\n",
       "  <tbody>\n",
       "    <tr>\n",
       "      <th>0</th>\n",
       "      <td>2</td>\n",
       "      <td>San Jose Diridon Caltrain Station</td>\n",
       "      <td>37.329732</td>\n",
       "      <td>-121.901782</td>\n",
       "      <td>27</td>\n",
       "      <td>San Jose</td>\n",
       "      <td>8/6/2013</td>\n",
       "    </tr>\n",
       "    <tr>\n",
       "      <th>1</th>\n",
       "      <td>3</td>\n",
       "      <td>San Jose Civic Center</td>\n",
       "      <td>37.330698</td>\n",
       "      <td>-121.888979</td>\n",
       "      <td>15</td>\n",
       "      <td>San Jose</td>\n",
       "      <td>8/5/2013</td>\n",
       "    </tr>\n",
       "    <tr>\n",
       "      <th>2</th>\n",
       "      <td>4</td>\n",
       "      <td>Santa Clara at Almaden</td>\n",
       "      <td>37.333988</td>\n",
       "      <td>-121.894902</td>\n",
       "      <td>11</td>\n",
       "      <td>San Jose</td>\n",
       "      <td>8/6/2013</td>\n",
       "    </tr>\n",
       "    <tr>\n",
       "      <th>3</th>\n",
       "      <td>5</td>\n",
       "      <td>Adobe on Almaden</td>\n",
       "      <td>37.331415</td>\n",
       "      <td>-121.893200</td>\n",
       "      <td>19</td>\n",
       "      <td>San Jose</td>\n",
       "      <td>8/5/2013</td>\n",
       "    </tr>\n",
       "    <tr>\n",
       "      <th>4</th>\n",
       "      <td>6</td>\n",
       "      <td>San Pedro Square</td>\n",
       "      <td>37.336721</td>\n",
       "      <td>-121.894074</td>\n",
       "      <td>15</td>\n",
       "      <td>San Jose</td>\n",
       "      <td>8/7/2013</td>\n",
       "    </tr>\n",
       "  </tbody>\n",
       "</table>\n",
       "</div>"
      ],
      "text/plain": [
       "   station_id                               name        lat        long  \\\n",
       "0           2  San Jose Diridon Caltrain Station  37.329732 -121.901782   \n",
       "1           3              San Jose Civic Center  37.330698 -121.888979   \n",
       "2           4             Santa Clara at Almaden  37.333988 -121.894902   \n",
       "3           5                   Adobe on Almaden  37.331415 -121.893200   \n",
       "4           6                   San Pedro Square  37.336721 -121.894074   \n",
       "\n",
       "   dockcount  landmark installation  \n",
       "0         27  San Jose     8/6/2013  \n",
       "1         15  San Jose     8/5/2013  \n",
       "2         11  San Jose     8/6/2013  \n",
       "3         19  San Jose     8/5/2013  \n",
       "4         15  San Jose     8/7/2013  "
      ]
     },
     "execution_count": 8,
     "metadata": {},
     "output_type": "execute_result"
    }
   ],
   "source": [
    "# Read the file and print the header and first records of the file\n",
    "station_data = pd.read_csv('201402_station_data.csv')\n",
    "station_data.head()"
   ]
  },
  {
   "cell_type": "markdown",
   "metadata": {},
   "source": [
    "After some analysis on both headers, some assesments on the data are important to be done.\n",
    "\n",
    "Notice that on data trip, there is a column for the name of the start station, end station and also columns for the id of those stations. I want to keep just the id.\n",
    "Furthermore, I am going to focus this analysis with information from the columns: trip duration, Start date, start terminal and end terminal(just the ids) and finally one column for the type of subscription.\n",
    "\n",
    "Start date will be transformed in four separeted columns: start_date (day), star_year, start_month and start_hour. Since there is a column for the duration of the trip, there is no need for End Date information. One column for day of the week will be added and start terminal and end terminal will contain information about the city they belong."
   ]
  },
  {
   "cell_type": "markdown",
   "metadata": {},
   "source": [
    "#### Assesments\n",
    "\n",
    "- Create a mapping that gets the name of the city based on the station_id information"
   ]
  },
  {
   "cell_type": "code",
   "execution_count": 9,
   "metadata": {},
   "outputs": [],
   "source": [
    "def create_station_mapping(station_data):\n",
    "    \"\"\"\n",
    "    TODO: add doc\n",
    "    \"\"\"\n",
    "    station_map = {}\n",
    "    # Read all the files in station_data list\n",
    "    for data_file in station_data:\n",
    "        with open(data_file, 'r') as f_in:\n",
    "            # configure the object csv reader\n",
    "            weather_reader = csv.DictReader(f_in)\n",
    "            for row in weather_reader:\n",
    "                station_map[row['station_id']] = row['landmark'] \n",
    "    return station_map\n"
   ]
  },
  {
   "cell_type": "markdown",
   "metadata": {},
   "source": [
    "- Transform Start date in four columns: start_day, start_year, start_month and start_hour\n",
    "- Calculate the duration in minutes instead of seconds\n",
    "- Add a column day_of_the_week\n",
    "- Display the name of the city in the columns start terminal and end terminal\n",
    "\n",
    "The following funtion deals gets a list of files of trips, a list of files of stations, deal with the assesments described and write the result in a single file."
   ]
  },
  {
   "cell_type": "code",
   "execution_count": 14,
   "metadata": {},
   "outputs": [],
   "source": [
    "def summarise_data(trip_in, station_data, trip_out):\n",
    "    \"\"\"\n",
    "    TODO: add doc\n",
    "    \"\"\"\n",
    "    # creates the mapping station_id and city\n",
    "    station_map = create_station_mapping(station_data)\n",
    "    \n",
    "    with open(trip_out, 'w') as f_out:\n",
    "               \n",
    "        out_colnames = ['duration', 'start_day', 'start_year',\n",
    "                        'start_month', 'start_hour', 'weekday',\n",
    "                        'start_city', 'end_city', 'subscription_type']        \n",
    "        trip_writer = csv.DictWriter(f_out, fieldnames = out_colnames)\n",
    "        trip_writer.writeheader()\n",
    "        \n",
    "        for data_file in trip_in:\n",
    "            with open(data_file, 'r') as f_in:\n",
    "                # configure the csv reader\n",
    "                trip_reader = csv.DictReader(f_in)\n",
    "\n",
    "                # read each line from the file\n",
    "                for row in trip_reader:\n",
    "                    new_point = {}\n",
    "                    \n",
    "                    # Convert duration from seconds to minutes.\n",
    "                    new_point['duration'] = int(row['Duration'])/60\n",
    "                    \n",
    "                    # Strips start date into four different columns\n",
    "                    trip_date = datetime.strptime(row['Start Date'], '%m/%d/%Y %H:%M')\n",
    "                    \n",
    "                    new_point['start_day']  = trip_date.day\n",
    "                    new_point['start_year']  = trip_date.year\n",
    "                    new_point['start_month'] = trip_date.month\n",
    "                    new_point['start_hour']  = trip_date.hour\n",
    "                    new_point['weekday']     = trip_date.weekday()\n",
    "                    \n",
    "                    # Maps Start Terminal and End Terminal into city\n",
    "                    new_point['start_city'] = station_map[row['Start Terminal']]\n",
    "                    new_point['end_city']   = station_map[row['End Terminal']]\n",
    "                    \n",
    "                    # Cleaning the column Subscription Type\n",
    "                    if 'Subscription Type' in row:\n",
    "                        new_point['subscription_type'] = row['Subscription Type']\n",
    "                    \n",
    "                    else:\n",
    "                        new_point['subscription_type'] = row['Subscriber Type']\n",
    "\n",
    "                    # Writes in the output file\n",
    "                    trip_writer.writerow(new_point)\n",
    "                    "
   ]
  },
  {
   "cell_type": "markdown",
   "metadata": {},
   "source": [
    "The following code gets the three files containing station and trip data and summarise it in one file:"
   ]
  },
  {
   "cell_type": "code",
   "execution_count": 15,
   "metadata": {},
   "outputs": [],
   "source": [
    "station_data = ['201408_station_data.csv',\n",
    "                '201402_station_data.csv',\n",
    "                '201508_station_data.csv']\n",
    "\n",
    "trip_in = ['201402_trip_data.csv',\n",
    "           '201408_trip_data.csv',\n",
    "           '201508_trip_data.csv' ]\n",
    "trip_out = 'babs_y1_y2_summary.csv'\n",
    "\n",
    "summarise_data(trip_in, station_data, trip_out)"
   ]
  },
  {
   "cell_type": "code",
   "execution_count": 19,
   "metadata": {},
   "outputs": [
    {
     "data": {
      "text/html": [
       "<div>\n",
       "<style scoped>\n",
       "    .dataframe tbody tr th:only-of-type {\n",
       "        vertical-align: middle;\n",
       "    }\n",
       "\n",
       "    .dataframe tbody tr th {\n",
       "        vertical-align: top;\n",
       "    }\n",
       "\n",
       "    .dataframe thead th {\n",
       "        text-align: right;\n",
       "    }\n",
       "</style>\n",
       "<table border=\"1\" class=\"dataframe\">\n",
       "  <thead>\n",
       "    <tr style=\"text-align: right;\">\n",
       "      <th></th>\n",
       "      <th>duration</th>\n",
       "      <th>start_day</th>\n",
       "      <th>start_year</th>\n",
       "      <th>start_month</th>\n",
       "      <th>start_hour</th>\n",
       "      <th>weekday</th>\n",
       "      <th>start_city</th>\n",
       "      <th>end_city</th>\n",
       "      <th>subscription_type</th>\n",
       "    </tr>\n",
       "  </thead>\n",
       "  <tbody>\n",
       "    <tr>\n",
       "      <th>0</th>\n",
       "      <td>1.050000</td>\n",
       "      <td>29</td>\n",
       "      <td>2013</td>\n",
       "      <td>8</td>\n",
       "      <td>14</td>\n",
       "      <td>3</td>\n",
       "      <td>San Francisco</td>\n",
       "      <td>San Francisco</td>\n",
       "      <td>Subscriber</td>\n",
       "    </tr>\n",
       "    <tr>\n",
       "      <th>1</th>\n",
       "      <td>1.166667</td>\n",
       "      <td>29</td>\n",
       "      <td>2013</td>\n",
       "      <td>8</td>\n",
       "      <td>14</td>\n",
       "      <td>3</td>\n",
       "      <td>San Jose</td>\n",
       "      <td>San Jose</td>\n",
       "      <td>Subscriber</td>\n",
       "    </tr>\n",
       "    <tr>\n",
       "      <th>2</th>\n",
       "      <td>1.183333</td>\n",
       "      <td>29</td>\n",
       "      <td>2013</td>\n",
       "      <td>8</td>\n",
       "      <td>10</td>\n",
       "      <td>3</td>\n",
       "      <td>Mountain View</td>\n",
       "      <td>Mountain View</td>\n",
       "      <td>Subscriber</td>\n",
       "    </tr>\n",
       "    <tr>\n",
       "      <th>3</th>\n",
       "      <td>1.283333</td>\n",
       "      <td>29</td>\n",
       "      <td>2013</td>\n",
       "      <td>8</td>\n",
       "      <td>11</td>\n",
       "      <td>3</td>\n",
       "      <td>San Jose</td>\n",
       "      <td>San Jose</td>\n",
       "      <td>Subscriber</td>\n",
       "    </tr>\n",
       "    <tr>\n",
       "      <th>4</th>\n",
       "      <td>1.383333</td>\n",
       "      <td>29</td>\n",
       "      <td>2013</td>\n",
       "      <td>8</td>\n",
       "      <td>12</td>\n",
       "      <td>3</td>\n",
       "      <td>San Francisco</td>\n",
       "      <td>San Francisco</td>\n",
       "      <td>Subscriber</td>\n",
       "    </tr>\n",
       "  </tbody>\n",
       "</table>\n",
       "</div>"
      ],
      "text/plain": [
       "   duration  start_day  start_year  start_month  start_hour  weekday  \\\n",
       "0  1.050000         29        2013            8          14        3   \n",
       "1  1.166667         29        2013            8          14        3   \n",
       "2  1.183333         29        2013            8          10        3   \n",
       "3  1.283333         29        2013            8          11        3   \n",
       "4  1.383333         29        2013            8          12        3   \n",
       "\n",
       "      start_city       end_city subscription_type  \n",
       "0  San Francisco  San Francisco        Subscriber  \n",
       "1       San Jose       San Jose        Subscriber  \n",
       "2  Mountain View  Mountain View        Subscriber  \n",
       "3       San Jose       San Jose        Subscriber  \n",
       "4  San Francisco  San Francisco        Subscriber  "
      ]
     },
     "execution_count": 19,
     "metadata": {},
     "output_type": "execute_result"
    }
   ],
   "source": [
    "# Display the header of the new file\n",
    "trip_data = pd.read_csv('babs_y1_y2_summary.csv')\n",
    "trip_data.head()"
   ]
  },
  {
   "cell_type": "markdown",
   "metadata": {},
   "source": [
    "## Exploratory Analysis"
   ]
  },
  {
   "cell_type": "markdown",
   "metadata": {},
   "source": [
    "The code bellow shows  basic insights from the data:"
   ]
  },
  {
   "cell_type": "code",
   "execution_count": 22,
   "metadata": {},
   "outputs": [
    {
     "name": "stdout",
     "output_type": "stream",
     "text": [
      "There are 669959 records on the data set\n",
      "The mean trip duration was 18.47 minutes\n",
      "The median trip duration was 8.62 minutes\n",
      "25% of the trips were shorter than 5.73 minutes\n",
      "25% of the trips were longer than 12.58 minutes\n"
     ]
    }
   ],
   "source": [
    "print('There are {:d} records on the data set'.format(trip_data.shape[0]))\n",
    "print('The mean trip duration was {:.2f} minutes'.format(trip_data['duration'].mean()))\n",
    "print('The median trip duration was {:.2f} minutes'.format(trip_data['duration'].median()))\n",
    "\n",
    "# quartiles\n",
    "duration_qtiles = trip_data['duration'].quantile([.25, .5, .75]).as_matrix()\n",
    "print('25% of the trips were shorter than {:.2f} minutes'.format(duration_qtiles[0]))\n",
    "print('25% of the trips were longer than {:.2f} minutes'.format(duration_qtiles[2]))"
   ]
  },
  {
   "cell_type": "markdown",
   "metadata": {},
   "source": [
    "### Who uses the Bike share system?"
   ]
  },
  {
   "cell_type": "code",
   "execution_count": 23,
   "metadata": {},
   "outputs": [
    {
     "data": {
      "image/png": "[encoded data removed]",
      "text/plain": [
       "<matplotlib.figure.Figure at 0x1e113fe5ef0>"
      ]
     },
     "metadata": {},
     "output_type": "display_data"
    }
   ],
   "source": [
    "import matplotlib.pyplot as plt\n",
    "\n",
    "trip_data['subscription_type'].value_counts().plot(kind ='bar', figsize=(8,6), rot=0, title='Trips by membership');   \n",
    "\n",
    "plt.xlabel('Membership')\n",
    "plt.ylabel('Trips')\n",
    "plt.show()"
   ]
  },
  {
   "cell_type": "markdown",
   "metadata": {},
   "source": [
    "### How long do the trips take?"
   ]
  },
  {
   "cell_type": "code",
   "execution_count": 24,
   "metadata": {},
   "outputs": [
    {
     "data": {
      "image/png": "[encoded data removed]",
      "text/plain": [
       "<matplotlib.figure.Figure at 0x1e113fe58d0>"
      ]
     },
     "metadata": {},
     "output_type": "display_data"
    }
   ],
   "source": [
    "trip_data['duration'].plot(kind='hist',figsize = (8,6), title='Trips by duration', color='green');\n",
    "\n",
    "\n",
    "plt.xlabel('Duration (minutes)')\n",
    "plt.ylabel('Trips')\n",
    "plt.show()"
   ]
  },
  {
   "cell_type": "markdown",
   "metadata": {},
   "source": [
    "It seems that there are a few trips that are very long. Since there is extra payment for trips longer than 30 minutes, it is important to focus where most part of the data is represented, since on this study the outliers were not removed from the data set."
   ]
  },
  {
   "cell_type": "code",
   "execution_count": 59,
   "metadata": {},
   "outputs": [
    {
     "name": "stdout",
     "output_type": "stream",
     "text": [
      "There are 669959 trips.\n",
      "There are 648712 trips shorter than 60 minutes.\n",
      "Trips shorter than 60 minutes represents 96.83 % of the data set.\n"
     ]
    }
   ],
   "source": [
    "print('There are {:d} trips.'.format(trip_data.shape[0]))\n",
    "trip_data_60 = trip_data.query('duration < 60')\n",
    "print('There are {:d} trips shorter than 60 minutes.'.format(trip_data_60.shape[0]))\n",
    "perc_shorter_60 = (trip_data_60.shape[0]/trip_data.shape[0])*100\n",
    "print('Trips shorter than 60 minutes represents {:.2f} % of the data set.'.format(perc_shorter_60))"
   ]
  },
  {
   "cell_type": "markdown",
   "metadata": {},
   "source": [
    "Let's focus on those."
   ]
  },
  {
   "cell_type": "code",
   "execution_count": 28,
   "metadata": {},
   "outputs": [
    {
     "data": {
      "image/png": "[encoded data removed]",
      "text/plain": [
       "<matplotlib.figure.Figure at 0x1e11f2f6080>"
      ]
     },
     "metadata": {},
     "output_type": "display_data"
    }
   ],
   "source": [
    "# Trips less than 60 minutes\n",
    "labels = [0,5,10,15,20,25,30,35,40,45,50,55,60]\n",
    "trip_data_60['duration'].plot(kind='hist',xticks=labels, figsize = (8,6),range=(0,60), bins=labels, color='green');\n",
    "\n",
    "\n",
    "plt.title('Trips shorter than 60 minutes')\n",
    "plt.xlabel('Duration (minutes)')\n",
    "plt.ylabel('Trips')\n",
    "plt.show()"
   ]
  },
  {
   "cell_type": "markdown",
   "metadata": {},
   "source": [
    "### Where is the system being used? "
   ]
  },
  {
   "cell_type": "code",
   "execution_count": 30,
   "metadata": {},
   "outputs": [
    {
     "data": {
      "image/png": "[encoded data removed]",
      "text/plain": [
       "<matplotlib.figure.Figure at 0x1e11f206320>"
      ]
     },
     "metadata": {},
     "output_type": "display_data"
    }
   ],
   "source": [
    "trip_data['start_city'].value_counts().plot(kind='bar',figsize = (8,6), rot = 0);\n",
    "\n",
    "plt.title('Trips by city')\n",
    "plt.xlabel('City')\n",
    "plt.ylabel('Trips')\n",
    "plt.show()"
   ]
  },
  {
   "cell_type": "markdown",
   "metadata": {},
   "source": [
    "### Are there differences between weekday and weekend?"
   ]
  },
  {
   "cell_type": "code",
   "execution_count": 34,
   "metadata": {},
   "outputs": [
    {
     "data": {
      "text/plain": [
       "weekday\n",
       "0    14.216484\n",
       "1    13.534880\n",
       "2    13.896800\n",
       "3    14.571864\n",
       "4    17.571230\n",
       "5    46.906951\n",
       "6    42.749314\n",
       "Name: duration, dtype: float64"
      ]
     },
     "execution_count": 34,
     "metadata": {},
     "output_type": "execute_result"
    }
   ],
   "source": [
    "# Trip mean by weekday\n",
    "trip_data.groupby(['weekday']).mean()['duration']"
   ]
  },
  {
   "cell_type": "markdown",
   "metadata": {},
   "source": [
    "It is clear that there is a difference between work days and weekends. Let's check that together with type of subscription:"
   ]
  },
  {
   "cell_type": "code",
   "execution_count": 55,
   "metadata": {},
   "outputs": [
    {
     "data": {
      "text/plain": [
       "subscription_type  weekday\n",
       "Customer           0          17.616969\n",
       "                   1          16.939221\n",
       "                   2          16.618123\n",
       "                   3          17.161492\n",
       "                   4          17.889721\n",
       "                   5          19.895920\n",
       "                   6          19.961172\n",
       "Subscriber         0           8.626501\n",
       "                   1           8.605314\n",
       "                   2           8.667668\n",
       "                   3           8.708050\n",
       "                   4           8.748561\n",
       "                   5           9.514303\n",
       "                   6           9.653977\n",
       "Name: duration, dtype: float64"
      ]
     },
     "execution_count": 55,
     "metadata": {},
     "output_type": "execute_result"
    }
   ],
   "source": [
    "trip_data_60.groupby(['subscription_type','weekday'])['duration'].mean()"
   ]
  },
  {
   "cell_type": "code",
   "execution_count": 48,
   "metadata": {},
   "outputs": [
    {
     "data": {
      "image/png": "[encoded data removed]",
      "text/plain": [
       "<matplotlib.figure.Figure at 0x1e1174d42b0>"
      ]
     },
     "metadata": {},
     "output_type": "display_data"
    }
   ],
   "source": [
    "# Mean trip duration by Subscription Type and Weekday\n",
    "data_to_plot = trip_data_60.groupby(['subscription_type','weekday'])['duration'].mean()\n",
    "customers = data_to_plot['Customer']\n",
    "subscribers = data_to_plot['Subscriber'] \n",
    "\n",
    "ind = np.arange(7)  # Location on axix x \n",
    "width = 0.35       # Bar width\n",
    "labels = ['Mon','Tue','Wed','Thu','Fri','Sat','Sun',]\n",
    "\n",
    "#barras\n",
    "plt.figure(figsize=(8,6))\n",
    "customers_bars = plt.bar(ind, customers, width, color='g', alpha=.7, label='Customers', tick_label=labels)\n",
    "subscribers_bars = plt.bar(ind + width, subscribers, width, color='b', alpha=.7, label='Subscribers')\n",
    "\n",
    "# title and labels\n",
    "plt.ylabel('Trip mean (min)')\n",
    "plt.xlabel('Day of the week')\n",
    "plt.title('Trip mean by weekday')\n",
    "\n",
    "# legend\n",
    "plt.legend(loc=2)\n",
    "plt.show()"
   ]
  },
  {
   "cell_type": "markdown",
   "metadata": {},
   "source": [
    "Considering only trips shorter than 60 minutes to avoid the outliers.\n",
    "The trip mean for subscribers remains the same during work days, suggesting that they use the bicycles to commute, while among customers the trips are longer which may be the case that they are tourists or people that are not pressured by time the same way as commuters are.\n",
    "On the weekends, both means increases a little bit. Maybe people are more relaxed with time and cycle slower, or take different routes."
   ]
  },
  {
   "cell_type": "markdown",
   "metadata": {},
   "source": [
    "### What time of the day is most common to use the system?"
   ]
  },
  {
   "cell_type": "code",
   "execution_count": 49,
   "metadata": {},
   "outputs": [
    {
     "data": {
      "image/png": "[encoded data removed]",
      "text/plain": [
       "<matplotlib.figure.Figure at 0x1e11ee999e8>"
      ]
     },
     "metadata": {},
     "output_type": "display_data"
    }
   ],
   "source": [
    "# 24 hours\n",
    "ind = np.arange(24)\n",
    "\n",
    "start_hours = trip_data.groupby(['subscription_type','start_hour'])['subscription_type'].value_counts()\n",
    "\n",
    "plt.figure(figsize=(16,8))\n",
    "plt.bar(ind, start_hours['Customer'], width, color='green', alpha=.9, label='Customers', tick_label=ind)\n",
    "plt.bar(ind, start_hours['Subscriber'], width, color='green', alpha=.5, label='Subscribers')\n",
    "\n",
    "# Title and labels\n",
    "plt.ylabel('Trips')\n",
    "plt.xlabel('Hour')\n",
    "plt.title('Trips by hour')\n",
    "\n",
    "# legend\n",
    "plt.legend(loc=1)\n",
    "plt.show()\n"
   ]
  },
  {
   "cell_type": "markdown",
   "metadata": {},
   "source": [
    "Notice how subscribers use the system from 07:00 to 10:00 and also from 16:00 to 19:00. It strongly suggests that they are in fact commuters. While among customers the distribuition increases until 13:00 and then starts to decrease. "
   ]
  },
  {
   "cell_type": "markdown",
   "metadata": {},
   "source": [
    "### Brief outliers analysis (to be continued)"
   ]
  },
  {
   "cell_type": "code",
   "execution_count": 51,
   "metadata": {},
   "outputs": [],
   "source": [
    "# Trips longer than one day\n",
    "minutes_day = 60*24\n",
    "trip_data_outliers = trip_data.query('duration > @minutes_day')"
   ]
  },
  {
   "cell_type": "code",
   "execution_count": 52,
   "metadata": {},
   "outputs": [
    {
     "name": "stdout",
     "output_type": "stream",
     "text": [
      "<class 'pandas.core.frame.DataFrame'>\n",
      "Int64Index: 296 entries, 747 to 662378\n",
      "Data columns (total 9 columns):\n",
      "duration             296 non-null float64\n",
      "start_day            296 non-null int64\n",
      "start_year           296 non-null int64\n",
      "start_month          296 non-null int64\n",
      "start_hour           296 non-null int64\n",
      "weekday              296 non-null int64\n",
      "start_city           296 non-null object\n",
      "end_city             296 non-null object\n",
      "subscription_type    296 non-null object\n",
      "dtypes: float64(1), int64(5), object(3)\n",
      "memory usage: 23.1+ KB\n"
     ]
    }
   ],
   "source": [
    "trip_data_outliers.info()"
   ]
  },
  {
   "cell_type": "code",
   "execution_count": 53,
   "metadata": {},
   "outputs": [
    {
     "data": {
      "text/plain": [
       "count       296.000000\n",
       "mean       4567.019144\n",
       "std       16881.587884\n",
       "min        1442.550000\n",
       "25%        1674.183333\n",
       "50%        2755.808333\n",
       "75%        4098.716667\n",
       "max      287840.000000\n",
       "Name: duration, dtype: float64"
      ]
     },
     "execution_count": 53,
     "metadata": {},
     "output_type": "execute_result"
    }
   ],
   "source": [
    "trip_data_outliers['duration'].describe()"
   ]
  },
  {
   "cell_type": "code",
   "execution_count": 54,
   "metadata": {},
   "outputs": [
    {
     "data": {
      "text/plain": [
       "start_hour\n",
       "0      2171\n",
       "1      1189\n",
       "2       692\n",
       "3       342\n",
       "4      1022\n",
       "5      3449\n",
       "6     14312\n",
       "7     43939\n",
       "8     85864\n",
       "9     62897\n",
       "10    30106\n",
       "11    29141\n",
       "12    34384\n",
       "13    31740\n",
       "14    27156\n",
       "15    33223\n",
       "16    59099\n",
       "17    82705\n",
       "18    57652\n",
       "19    29188\n",
       "20    16527\n",
       "21    11277\n",
       "22     7434\n",
       "23     4450\n",
       "dtype: int64"
      ]
     },
     "execution_count": 54,
     "metadata": {},
     "output_type": "execute_result"
    }
   ],
   "source": [
    "trip_data.groupby(['start_hour']).size()"
   ]
  },
  {
   "cell_type": "markdown",
   "metadata": {},
   "source": [
    "There are ***296*** trips longer than 24 hours and the mean of this set is 4567 minutes, or ***3,17 days***. Some hyphotesis may include: stolen bicycles, acidents, failure on the end terminal, people getting lost and forgeting to bring the bicycle back."
   ]
  }
 ],
 "metadata": {
  "anaconda-cloud": {},
  "kernelspec": {
   "display_name": "Python 3",
   "language": "python",
   "name": "python3"
  },
  "language_info": {
   "codemirror_mode": {
    "name": "ipython",
    "version": 3
   },
   "file_extension": ".py",
   "mimetype": "text/x-python",
   "name": "python",
   "nbconvert_exporter": "python",
   "pygments_lexer": "ipython3",
   "version": "3.6.4"
  }
 },
 "nbformat": 4,
 "nbformat_minor": 1
}
